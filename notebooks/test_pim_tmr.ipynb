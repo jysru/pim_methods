{
 "cells": [
  {
   "cell_type": "code",
   "execution_count": null,
   "metadata": {},
   "outputs": [],
   "source": [
    "import numpy as np\n",
    "import tmr.pim_tmr as pim\n",
    "import utils.matrices as mats\n",
    "from utils.metrics import pearson_statistics"
   ]
  },
  {
   "cell_type": "code",
   "execution_count": null,
   "metadata": {},
   "outputs": [],
   "source": [
    "N = 1000\n",
    "n = 30\n",
    "m = 4*n\n",
    "s = 0.5\n",
    "\n",
    "names = ['random', 'complex_random', 'diag_random', 'diag_complex_random', \n",
    "         'sparse_random', 'sparse_complex_random',\n",
    "         'random_toeplitz', 'random_complex_toeplitz', 'random_complex_full_toeplitz',\n",
    "         'sparse_random_toeplitz', 'sparse_random_complex_toeplitz', 'sparse_random_complex_full_toeplitz']\n",
    "\n",
    "matrices = [\n",
    "    mats.random(n,m), mats.random(n,m,complex=True), mats.diag_random(n), mats.diag_random(n, complex=True),\n",
    "    mats.random(n,m,sparsity=s), mats.random(n,m,complex=True,sparsity=s),\n",
    "    mats.random_toeplitz(n,m), mats.random_toeplitz(n,m, complex=True), mats.random_toeplitz(n,m, complex=True, toeplitz_phase=True),\n",
    "    mats.random_toeplitz(n,m,sparsity=s), mats.random_toeplitz(n,m,complex=True,sparsity=s), mats.random_toeplitz(n,m,complex=True,sparsity=s, toeplitz_phase=True),\n",
    "]"
   ]
  },
  {
   "cell_type": "code",
   "execution_count": null,
   "metadata": {},
   "outputs": [],
   "source": [
    "A = mats.random(N, n, complex=True, sparsity=0)\n",
    "val_sparsity = 0.5\n",
    "noise = 0.05\n",
    "\n",
    "for i in range(len(names)):\n",
    "    X = matrices[i]\n",
    "    B = np.abs(np.dot(A, X))\n",
    "    B = np.square(B)\n",
    "    B = B / np.max(B)\n",
    "    B = np.sqrt(np.abs(B + noise*np.random.rand(*B.shape)))\n",
    "    X_est = pim.pim_tmr(A, B, tol=4e-7, tol_stag=1e-3, max_iter=1000, max_stag=10, disable_outputs=True)\n",
    "    p = pearson_statistics(X, X_est, 10000, print_result=False, sparsity=val_sparsity)\n",
    "    print(f\"{names[i]}\")\n",
    "    print(f\"\\tPearson: average = {p[0]*100:.5f}%, std = {p[1]*100:.5f}%\")"
   ]
  }
 ],
 "metadata": {
  "kernelspec": {
   "display_name": ".venv",
   "language": "python",
   "name": "python3"
  },
  "language_info": {
   "codemirror_mode": {
    "name": "ipython",
    "version": 3
   },
   "file_extension": ".py",
   "mimetype": "text/x-python",
   "name": "python",
   "nbconvert_exporter": "python",
   "pygments_lexer": "ipython3",
   "version": "3.9.13"
  },
  "orig_nbformat": 4
 },
 "nbformat": 4,
 "nbformat_minor": 2
}
