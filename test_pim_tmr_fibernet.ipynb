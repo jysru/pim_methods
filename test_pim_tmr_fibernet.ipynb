{
 "cells": [
  {
   "cell_type": "code",
   "execution_count": 4,
   "metadata": {},
   "outputs": [],
   "source": [
    "%load_ext autoreload\n",
    "%autoreload 2\n",
    "\n",
    "import numpy as np\n",
    "import pim_tmr as pim\n",
    "import matrices as pim_mats\n",
    "import fibernet"
   ]
  },
  {
   "cell_type": "code",
   "execution_count": 2,
   "metadata": {},
   "outputs": [],
   "source": [
    "import mat73\n",
    "import os\n",
    "from scipy.io import loadmat\n",
    "\n",
    "path = \"C:\\\\Users\\\\saucourt\\\\Datasets\"\n",
    "file = \"data_base_02_03_90deg.mat\"\n",
    "\n",
    "data = mat73.loadmat(os.path.join(path, file))\n",
    "# data = loadmat(os.path.join(path, file))"
   ]
  },
  {
   "cell_type": "code",
   "execution_count": 58,
   "metadata": {},
   "outputs": [],
   "source": [
    "CP = np.reshape(np.array(data['CP']), newshape=(-1, 128, 128))\n",
    "vec = np.reshape(np.array(data['vecteur_36']) , newshape=(-1, 36))\n",
    "\n",
    "NN = CP.shape[0]\n",
    "As = np.zeros(shape=(NN, 32), dtype=complex)\n",
    "Bs = np.zeros(shape=(NN, 96*96), dtype=float)\n",
    "\n",
    "amp = fibernet.dataset._utils.make_bellshaped_plane_2d(vec[0].reshape((6,6)))\n",
    "amp = amp.flatten()\n",
    "\n",
    "for i in range(NN):\n",
    "    phi = vec[i]\n",
    "    phi = amp * np.exp(1j * phi)\n",
    "    phi = np.delete(vec[i], [0, 5, 30, 35])\n",
    "    img = CP[i][16:112, 16:112].flatten().astype('float')\n",
    "    As[i,:] = phi\n",
    "    Bs[i,:] = np.sqrt(img/(np.power(2, 16) - 1))"
   ]
  },
  {
   "cell_type": "code",
   "execution_count": 76,
   "metadata": {},
   "outputs": [
    {
     "name": "stdout",
     "output_type": "stream",
     "text": [
      "The autoreload extension is already loaded. To reload it, use:\n",
      "  %reload_ext autoreload\n",
      "i=    0  mse_glob=4.344e-09  mse_convs=4.250e-09  mse_acts=2.163e-08  act=   50  convs= 9166\n",
      "i=    1  mse_glob=4.338e-09  mse_convs=4.278e-09  mse_acts=2.158e-08  act=   32  convs= 9184\n",
      "i=    2  mse_glob=4.335e-09  mse_convs=4.291e-09  mse_acts=2.146e-08  act=   24  convs= 9192\n",
      "i=    3  mse_glob=4.334e-09  mse_convs=4.299e-09  mse_acts=2.129e-08  act=   19  convs= 9197\n",
      "i=    4  mse_glob=4.333e-09  mse_convs=4.311e-09  mse_acts=2.141e-08  act=   12  convs= 9204\n",
      "i=    5  mse_glob=4.332e-09  mse_convs=4.317e-09  mse_acts=2.158e-08  act=    8  convs= 9208\n",
      "i=    6  mse_glob=4.332e-09  mse_convs=4.319e-09  mse_acts=2.139e-08  act=    7  convs= 9209\n",
      "i=    7  mse_glob=4.331e-09  mse_convs=4.324e-09  mse_acts=2.196e-08  act=    4  convs= 9212\n",
      "i=    8  mse_glob=4.331e-09  mse_convs=4.325e-09  mse_acts=2.226e-08  act=    3  convs= 9213\n",
      "i=    9  mse_glob=4.331e-09  mse_convs=4.325e-09  mse_acts=2.194e-08  act=    3  convs= 9213\n",
      "i=   10  mse_glob=4.331e-09  mse_convs=4.325e-09  mse_acts=2.157e-08  act=    3  convs= 9213\n",
      "i=   11  mse_glob=4.331e-09  mse_convs=4.327e-09  mse_acts=2.174e-08  act=    2  convs= 9214\n",
      "i=   12  mse_glob=4.331e-09  mse_convs=4.327e-09  mse_acts=2.153e-08  act=    2  convs= 9214\n",
      "i=   13  mse_glob=4.331e-09  mse_convs=4.327e-09  mse_acts=2.132e-08  act=    2  convs= 9214\n",
      "i=   14  mse_glob=4.331e-09  mse_convs=4.327e-09  mse_acts=2.112e-08  act=    2  convs= 9214\n",
      "i=   15  mse_glob=4.331e-09  mse_convs=4.327e-09  mse_acts=2.091e-08  act=    2  convs= 9214\n",
      "i=   16  mse_glob=4.331e-09  mse_convs=4.327e-09  mse_acts=2.070e-08  act=    2  convs= 9214\n",
      "i=   17  mse_glob=4.330e-09  mse_convs=4.329e-09  mse_acts=2.117e-08  act=    1  convs= 9215\n",
      "i=   18  mse_glob=4.330e-09  mse_convs=4.329e-09  mse_acts=2.092e-08  act=    1  convs= 9215\n",
      "i=   19  mse_glob=4.330e-09  mse_convs=4.329e-09  mse_acts=2.068e-08  act=    1  convs= 9215\n",
      "i=   20  mse_glob=4.330e-09  mse_convs=4.329e-09  mse_acts=2.045e-08  act=    1  convs= 9215\n",
      "i=   21  mse_glob=4.330e-09  mse_convs=4.329e-09  mse_acts=2.024e-08  act=    1  convs= 9215\n",
      "i=   22  mse_glob=4.330e-09  mse_convs=4.329e-09  mse_acts=2.002e-08  act=    1  convs= 9215\n",
      "i=   23  mse_glob=4.330e-09  mse_convs=4.330e-09  mse_acts=nan  act=    0  convs= 9216\n",
      "MSE Bs: 4.612e-03\n"
     ]
    }
   ],
   "source": [
    "%load_ext autoreload\n",
    "%autoreload 2\n",
    "\n",
    "N = 5000\n",
    "idx = np.random.permutation(np.arange(NN))\n",
    "As_crop = As[idx[:N], :]\n",
    "Bs_crop = Bs[idx[:N], :]\n",
    "\n",
    "X_est = pim.pim_tmr(As_crop, Bs_crop, max_iter=10000, tol=20e-9, tol_stag=1e-2, max_stag=10)\n",
    "B_est = np.abs(np.dot(As_crop, X_est))\n",
    "print(f\"MSE Bs: {pim.mse(Bs_crop, B_est):0.3e}\")"
   ]
  },
  {
   "cell_type": "code",
   "execution_count": 15,
   "metadata": {},
   "outputs": [
    {
     "ename": "NameError",
     "evalue": "name 'As_crop' is not defined",
     "output_type": "error",
     "traceback": [
      "\u001b[1;31m---------------------------------------------------------------------------\u001b[0m",
      "\u001b[1;31mNameError\u001b[0m                                 Traceback (most recent call last)",
      "Cell \u001b[1;32mIn[15], line 4\u001b[0m\n\u001b[0;32m      1\u001b[0m \u001b[39mimport\u001b[39;00m \u001b[39mmatplotlib\u001b[39;00m\u001b[39m.\u001b[39;00m\u001b[39mpyplot\u001b[39;00m \u001b[39mas\u001b[39;00m \u001b[39mplt\u001b[39;00m\n\u001b[0;32m      3\u001b[0m i \u001b[39m=\u001b[39m \u001b[39m120\u001b[39m\n\u001b[1;32m----> 4\u001b[0m A_init \u001b[39m=\u001b[39m As_crop[i,:]\n\u001b[0;32m      5\u001b[0m Y_model \u001b[39m=\u001b[39m np\u001b[39m.\u001b[39mdot(X_est\u001b[39m.\u001b[39mT, A_init)\u001b[39m.\u001b[39mreshape((\u001b[39m96\u001b[39m,\u001b[39m96\u001b[39m))\n\u001b[0;32m      6\u001b[0m B_model \u001b[39m=\u001b[39m np\u001b[39m.\u001b[39mabs(Y_model)\n",
      "\u001b[1;31mNameError\u001b[0m: name 'As_crop' is not defined"
     ]
    }
   ],
   "source": [
    "import matplotlib.pyplot as plt\n",
    "\n",
    "i = 120\n",
    "A_init = As_crop[i,:]\n",
    "Y_model = np.dot(X_est.T, A_init).reshape((96,96))\n",
    "B_model = np.abs(Y_model)\n",
    "B_init = Bs_crop[i,:].reshape((96,96))\n",
    "\n",
    "fig, axs = plt.subplots(1,4, figsize=(17,3))\n",
    "pl0 = axs[0].imshow(np.square(B_init), cmap=\"hot\")\n",
    "pl1 = axs[1].imshow(np.square(B_model), cmap=\"hot\")\n",
    "pl2 = axs[2].imshow(np.square(B_model) - np.square(B_init), cmap=\"RdBu\")\n",
    "pl3 = axs[3].imshow(np.angle(Y_model), cmap=\"twilight\")\n",
    "plt.colorbar(pl0, ax=axs[0])\n",
    "plt.colorbar(pl1, ax=axs[1])\n",
    "plt.colorbar(pl2, ax=axs[2])\n",
    "plt.colorbar(pl3, ax=axs[3])\n",
    "axs[0].set_title(r\"$B_{init}^2$\")\n",
    "axs[1].set_title(r\"$B_{model}^2$\")\n",
    "axs[2].set_title(r\"Error: $B_{model}^2 - B_{init}^2$\")\n",
    "axs[3].set_title(r\"$\\angle Y_{model}$\")\n",
    "[ axs[i].axis('off') for i in range(4) ]"
   ]
  }
 ],
 "metadata": {
  "kernelspec": {
   "display_name": ".venv",
   "language": "python",
   "name": "python3"
  },
  "language_info": {
   "codemirror_mode": {
    "name": "ipython",
    "version": 3
   },
   "file_extension": ".py",
   "mimetype": "text/x-python",
   "name": "python",
   "nbconvert_exporter": "python",
   "pygments_lexer": "ipython3",
   "version": "3.9.13"
  },
  "orig_nbformat": 4,
  "vscode": {
   "interpreter": {
    "hash": "0aefc2a9e214fe12d8f4c6aca39349276a23711dd1ec994da6b5b8eaeb4fe670"
   }
  }
 },
 "nbformat": 4,
 "nbformat_minor": 2
}
